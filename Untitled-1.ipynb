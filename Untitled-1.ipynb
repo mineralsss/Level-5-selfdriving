{
 "cells": [
  {
   "cell_type": "code",
   "execution_count": 47,
   "metadata": {},
   "outputs": [
    {
     "ename": "TypeError",
     "evalue": "SLL.insertLast() takes 2 positional arguments but 4 were given",
     "output_type": "error",
     "traceback": [
      "\u001b[1;31m---------------------------------------------------------------------------\u001b[0m",
      "\u001b[1;31mTypeError\u001b[0m                                 Traceback (most recent call last)",
      "Cell \u001b[1;32mIn[47], line 54\u001b[0m\n\u001b[0;32m     50\u001b[0m                 \u001b[38;5;28mself\u001b[39m\u001b[38;5;241m.\u001b[39mtail \u001b[38;5;241m=\u001b[39m \u001b[38;5;28;01mNone\u001b[39;00m\n\u001b[0;32m     53\u001b[0m sll \u001b[38;5;241m=\u001b[39m SLL()\n\u001b[1;32m---> 54\u001b[0m \u001b[43msll\u001b[49m\u001b[38;5;241;43m.\u001b[39;49m\u001b[43minsertLast\u001b[49m\u001b[43m(\u001b[49m\u001b[38;5;241;43m1\u001b[39;49m\u001b[43m,\u001b[49m\u001b[38;5;241;43m2\u001b[39;49m\u001b[43m,\u001b[49m\u001b[38;5;241;43m3\u001b[39;49m\u001b[43m)\u001b[49m\n\u001b[0;32m     55\u001b[0m sll\u001b[38;5;241m.\u001b[39minsertLast(\u001b[38;5;241m4\u001b[39m,\u001b[38;5;241m5\u001b[39m,\u001b[38;5;241m6\u001b[39m)\n\u001b[0;32m     56\u001b[0m sll\u001b[38;5;241m.\u001b[39minsertLast(\u001b[38;5;241m7\u001b[39m,\u001b[38;5;241m8\u001b[39m,\u001b[38;5;241m9\u001b[39m)\n",
      "\u001b[1;31mTypeError\u001b[0m: SLL.insertLast() takes 2 positional arguments but 4 were given"
     ]
    }
   ],
   "source": [
    "class Student:\n",
    "    def __init__(name, age, mark):\n",
    "        self.name = name\n",
    "        self.age = age\n",
    "        self.mark = mark\n",
    "class Node:\n",
    "    def __init__(self, data):\n",
    "        self.data = data\n",
    "        self.next = None\n",
    "\n",
    "class SLL:\n",
    "    def __init__(self):\n",
    "        self.head = None\n",
    "        self.tail = None\n",
    "    def isEmpty(self):\n",
    "        if self.head:\n",
    "            return False\n",
    "        else:\n",
    "            return True\n",
    "    def display(self):\n",
    "        if self.isEmpty():\n",
    "            return None\n",
    "        else:\n",
    "            t = self.head\n",
    "            while t:\n",
    "                print(t.data)\n",
    "                t = t.next\n",
    "    def insertFirst(self, data):\n",
    "        new_node = Node(Student(data))\n",
    "        if self.isEmpty():\n",
    "            self.head = new_node\n",
    "            self.tail = new_node\n",
    "        else:\n",
    "            new_node.next = self.head\n",
    "            self.head = new_node\n",
    "    def insertLast(self, data):\n",
    "        new_node = Node(Student(data))\n",
    "        if self.isEmpty():\n",
    "            self.head = new_node\n",
    "            self.tail = new_node\n",
    "        else:\n",
    "            self.tail.next = new_node\n",
    "            self.tail = new_node\n",
    "    def delFirst(self):\n",
    "        if self.isEmpty():\n",
    "            print(\"Nothing here\")\n",
    "        else:\n",
    "            self.head = self.head.next\n",
    "            if self.head is None:\n",
    "                self.tail = None\n",
    "\n",
    "\n",
    "sll = SLL()\n",
    "ob = Student(name1, age1, mark1)\n",
    "op = Student(name2, age2, mark2)\n",
    "sll.insertLast(ob)\n",
    "sll.insertLast(op)\n",
    "sll.insertLast(7,8,9)\n",
    "sll.display()"
   ]
  }
 ],
 "metadata": {
  "kernelspec": {
   "display_name": "Python 3",
   "language": "python",
   "name": "python3"
  },
  "language_info": {
   "codemirror_mode": {
    "name": "ipython",
    "version": 3
   },
   "file_extension": ".py",
   "mimetype": "text/x-python",
   "name": "python",
   "nbconvert_exporter": "python",
   "pygments_lexer": "ipython3",
   "version": "3.11.5"
  }
 },
 "nbformat": 4,
 "nbformat_minor": 2
}
